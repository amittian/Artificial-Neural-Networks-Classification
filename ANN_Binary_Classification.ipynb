{
  "nbformat": 4,
  "nbformat_minor": 0,
  "metadata": {
    "colab": {
      "provenance": [],
      "gpuType": "T4",
      "mount_file_id": "1Frvu6GCzL4m3PTAIF39C8tKcc3TxSpO2",
      "authorship_tag": "ABX9TyNDQxXggrF5Nx50hDQrK+NX",
      "include_colab_link": true
    },
    "kernelspec": {
      "name": "python3",
      "display_name": "Python 3"
    },
    "language_info": {
      "name": "python"
    },
    "accelerator": "GPU"
  },
  "cells": [
    {
      "cell_type": "markdown",
      "metadata": {
        "id": "view-in-github",
        "colab_type": "text"
      },
      "source": [
        "<a href=\"https://colab.research.google.com/github/amittian/Artificial-Neural-Networks-Classification/blob/main/ANN_Binary_Classification.ipynb\" target=\"_parent\"><img src=\"https://colab.research.google.com/assets/colab-badge.svg\" alt=\"Open In Colab\"/></a>"
      ]
    },
    {
      "cell_type": "code",
      "execution_count": 1,
      "metadata": {
        "id": "izsNnV8AAuXR"
      },
      "outputs": [],
      "source": [
        "import pandas as pd\n",
        "from sklearn.model_selection import train_test_split\n",
        "from sklearn.feature_extraction.text import TfidfVectorizer\n",
        "from sklearn.preprocessing import LabelEncoder\n",
        "import tensorflow as tf\n",
        "from tensorflow.keras.models import Sequential\n",
        "from tensorflow.keras.layers import Dense\n",
        "from tensorflow.keras.optimizers import Adam"
      ]
    },
    {
      "cell_type": "markdown",
      "source": [],
      "metadata": {
        "id": "aiwPoRuSwEJZ"
      }
    },
    {
      "cell_type": "code",
      "source": [
        "# Load your data\n",
        "data = pd.read_csv('/content/drive/MyDrive/city_fibre_db/SMS_train.csv', encoding='ISO-8859-1')"
      ],
      "metadata": {
        "id": "_yRv9y73Bc79"
      },
      "execution_count": 3,
      "outputs": []
    },
    {
      "cell_type": "code",
      "source": [
        "data[\"Label\"].value_counts()"
      ],
      "metadata": {
        "colab": {
          "base_uri": "https://localhost:8080/"
        },
        "id": "wPlCFMTWBfzI",
        "outputId": "14042ba0-3ca7-4c59-90a7-b425c2b13c8e"
      },
      "execution_count": 5,
      "outputs": [
        {
          "output_type": "execute_result",
          "data": {
            "text/plain": [
              "Label\n",
              "Non-Spam    835\n",
              "Spam        122\n",
              "Name: count, dtype: int64"
            ]
          },
          "metadata": {},
          "execution_count": 5
        }
      ]
    },
    {
      "cell_type": "code",
      "source": [
        "tfidf = TfidfVectorizer(max_features=1000, stop_words='english')"
      ],
      "metadata": {
        "id": "kEjt66bnBpnC"
      },
      "execution_count": 6,
      "outputs": []
    },
    {
      "cell_type": "code",
      "source": [
        "X = tfidf.fit_transform(data['Message_body']).toarray()"
      ],
      "metadata": {
        "id": "q_56ZMAeBr1y"
      },
      "execution_count": 10,
      "outputs": []
    },
    {
      "cell_type": "code",
      "source": [
        "label_encoder = LabelEncoder()\n",
        "y = label_encoder.fit_transform(data['Label'])"
      ],
      "metadata": {
        "id": "rhbcRY6iB0_9"
      },
      "execution_count": 11,
      "outputs": []
    },
    {
      "cell_type": "code",
      "source": [
        "X_train, X_test, y_train, y_test = train_test_split(X, y, test_size=0.2, random_state=42)\n",
        "\n",
        "# Build the model\n",
        "model = Sequential([\n",
        "    Dense(128, input_dim=X_train.shape[1], activation='relu'),  # input layer\n",
        "    Dense(64, activation='relu'), # Hidden Layer\n",
        "    #Dense(32, activation='relu'), # Hidden Layer\n",
        "    #Dense(16, activation='relu'), # Hidden Layer\n",
        "    #Dense(8, activation='relu'), # Hidden Layer\n",
        "    Dense(4, activation='relu'), # Hidden Layer\n",
        "    Dense(len(set(y_train)), activation='softmax')  # Output layer\n",
        "])\n",
        "\n",
        "# Compile the model\n",
        "model.compile(loss='sparse_categorical_crossentropy',\n",
        "              optimizer=Adam(0.01),\n",
        "              metrics=['accuracy'])\n",
        "\n",
        "# Reference : https://machinelearningmastery.com/how-to-choose-loss-functions-when-training-deep-learning-neural-networks/\n",
        "\n",
        "# Train the model\n",
        "model.fit(X_train,\n",
        "          y_train,\n",
        "          epochs=10,\n",
        "          batch_size=10,\n",
        "          verbose=1)\n",
        "\n",
        "# Evaluate the model\n",
        "loss, accuracy = model.evaluate(X_test, y_test)\n",
        "\n",
        "print(f'Loss: {loss:.4f}, Accuracy: {accuracy * 100:.2f}%')"
      ],
      "metadata": {
        "colab": {
          "base_uri": "https://localhost:8080/"
        },
        "id": "iK-Mc76-BU4Z",
        "outputId": "68479085-af35-41d1-d717-c1dbfd00229a"
      },
      "execution_count": 30,
      "outputs": [
        {
          "output_type": "stream",
          "name": "stdout",
          "text": [
            "Epoch 1/10\n",
            "77/77 [==============================] - 2s 4ms/step - loss: 0.2116 - accuracy: 0.9163\n",
            "Epoch 2/10\n",
            "77/77 [==============================] - 0s 3ms/step - loss: 0.0390 - accuracy: 0.9856\n",
            "Epoch 3/10\n",
            "77/77 [==============================] - 0s 3ms/step - loss: 0.0068 - accuracy: 0.9987\n",
            "Epoch 4/10\n",
            "77/77 [==============================] - 0s 3ms/step - loss: 4.6160e-04 - accuracy: 1.0000\n",
            "Epoch 5/10\n",
            "77/77 [==============================] - 0s 3ms/step - loss: 1.1877e-04 - accuracy: 1.0000\n",
            "Epoch 6/10\n",
            "77/77 [==============================] - 0s 3ms/step - loss: 6.8369e-05 - accuracy: 1.0000\n",
            "Epoch 7/10\n",
            "77/77 [==============================] - 0s 3ms/step - loss: 4.5208e-05 - accuracy: 1.0000\n",
            "Epoch 8/10\n",
            "77/77 [==============================] - 0s 3ms/step - loss: 3.2434e-05 - accuracy: 1.0000\n",
            "Epoch 9/10\n",
            "77/77 [==============================] - 0s 3ms/step - loss: 2.4427e-05 - accuracy: 1.0000\n",
            "Epoch 10/10\n",
            "77/77 [==============================] - 0s 3ms/step - loss: 1.9145e-05 - accuracy: 1.0000\n",
            "6/6 [==============================] - 0s 3ms/step - loss: 0.3827 - accuracy: 0.9323\n",
            "Loss: 0.3827, Accuracy: 93.23%\n"
          ]
        }
      ]
    },
    {
      "cell_type": "markdown",
      "source": [
        "# **Optimization**"
      ],
      "metadata": {
        "id": "fwVTJ8NPUwi-"
      }
    },
    {
      "cell_type": "code",
      "source": [],
      "metadata": {
        "id": "bNkUyYjPU4DB"
      },
      "execution_count": null,
      "outputs": []
    }
  ]
}